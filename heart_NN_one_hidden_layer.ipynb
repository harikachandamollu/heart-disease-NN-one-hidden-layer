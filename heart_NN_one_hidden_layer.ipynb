{
 "cells": [
  {
   "cell_type": "markdown",
   "metadata": {},
   "source": [
    "## Binary classification with one hidden layer(Neural Network)"
   ]
  },
  {
   "cell_type": "markdown",
   "metadata": {},
   "source": [
    "### Data description and analysis is carried out in heart_exploratory_data_analysis.ipynb"
   ]
  },
  {
   "cell_type": "markdown",
   "metadata": {},
   "source": [
    "#### Importing necessary libraries to import the data and processing the data."
   ]
  },
  {
   "cell_type": "code",
   "execution_count": 1,
   "metadata": {},
   "outputs": [],
   "source": [
    "import numpy as np\n",
    "from sklearn.model_selection import train_test_split\n",
    "import matplotlib.pyplot as plt"
   ]
  },
  {
   "cell_type": "markdown",
   "metadata": {},
   "source": [
    "#### Loading dataset from csv file into numpy array. "
   ]
  },
  {
   "cell_type": "code",
   "execution_count": 2,
   "metadata": {},
   "outputs": [
    {
     "data": {
      "text/plain": [
       "array([[nan, nan, nan, ..., nan, nan, nan],\n",
       "       [63.,  1.,  3., ...,  0.,  1.,  1.],\n",
       "       [37.,  1.,  2., ...,  0.,  2.,  1.],\n",
       "       ...,\n",
       "       [68.,  1.,  0., ...,  2.,  3.,  0.],\n",
       "       [57.,  1.,  0., ...,  1.,  3.,  0.],\n",
       "       [57.,  0.,  1., ...,  1.,  2.,  0.]])"
      ]
     },
     "execution_count": 2,
     "metadata": {},
     "output_type": "execute_result"
    }
   ],
   "source": [
    "data = np.genfromtxt('heart.csv',delimiter=',')\n",
    "data"
   ]
  },
  {
   "cell_type": "markdown",
   "metadata": {},
   "source": [
    "#### Slicing the data and storing the input variables in X and target variable in Y, in the form of matrix "
   ]
  },
  {
   "cell_type": "code",
   "execution_count": 3,
   "metadata": {},
   "outputs": [
    {
     "name": "stdout",
     "output_type": "stream",
     "text": [
      "type of X: <class 'numpy.ndarray'>\n",
      "type of Y: <class 'numpy.ndarray'>\n"
     ]
    }
   ],
   "source": [
    "X=np.array((data[1:,:-1]))\n",
    "Y=np.array((data[1:,-1]))\n",
    "print('type of X:',type(X))\n",
    "print('type of Y:',type(Y))"
   ]
  },
  {
   "cell_type": "markdown",
   "metadata": {},
   "source": [
    "#### Make sure the slicing and dimensions(rows, columns) are correct, and training set size "
   ]
  },
  {
   "cell_type": "code",
   "execution_count": 4,
   "metadata": {},
   "outputs": [
    {
     "name": "stdout",
     "output_type": "stream",
     "text": [
      "number of training examples: 303\n",
      "Shape of input variables(X-matrix/numpy array): (303, 13)\n",
      "Shape of target variable(Y-vector/numpy array): (303,)\n"
     ]
    }
   ],
   "source": [
    "print('number of training examples:',X.shape[0])\n",
    "print('Shape of input variables(X-matrix/numpy array):',X.shape)\n",
    "print('Shape of target variable(Y-vector/numpy array):',Y.shape)"
   ]
  },
  {
   "cell_type": "markdown",
   "metadata": {},
   "source": [
    "#### To avoid further errors, converting dimensions of Y vector to one-column matrix"
   ]
  },
  {
   "cell_type": "code",
   "execution_count": 5,
   "metadata": {},
   "outputs": [
    {
     "data": {
      "text/plain": [
       "(303, 1)"
      ]
     },
     "execution_count": 5,
     "metadata": {},
     "output_type": "execute_result"
    }
   ],
   "source": [
    "Y = np.reshape(Y,(Y.shape[0],1))\n",
    "Y.shape"
   ]
  },
  {
   "cell_type": "markdown",
   "metadata": {},
   "source": [
    "#### Splitting the data into train and test data where 20% of the data is the test data. Using shape, to confirm the split."
   ]
  },
  {
   "cell_type": "code",
   "execution_count": 6,
   "metadata": {},
   "outputs": [
    {
     "name": "stdout",
     "output_type": "stream",
     "text": [
      "Shape of X(train_set): (242, 13)\n",
      "Shape of X(test_set): (61, 13)\n",
      "Shape of Y(train_set): (242, 1)\n",
      "Shape of Y(test_set): (61, 1)\n"
     ]
    }
   ],
   "source": [
    "train_X, test_X, train_Y, test_Y = train_test_split(X,Y,test_size=0.2,random_state=0)\n",
    "print(\"Shape of X(train_set):\",train_X.shape)\n",
    "print(\"Shape of X(test_set):\",test_X.shape)\n",
    "print(\"Shape of Y(train_set):\",train_Y.shape)\n",
    "print(\"Shape of Y(test_set):\",test_Y.shape)"
   ]
  },
  {
   "cell_type": "markdown",
   "metadata": {},
   "source": [
    "#### Transpose of the data for easy calculations further"
   ]
  },
  {
   "cell_type": "code",
   "execution_count": 7,
   "metadata": {},
   "outputs": [
    {
     "name": "stdout",
     "output_type": "stream",
     "text": [
      "Shape of X(train_set): (13, 242)\n",
      "Shape of X(test_set): (13, 61)\n",
      "Shape of Y(train_set): (1, 242)\n",
      "Shape of Y(test_set): (1, 61)\n"
     ]
    }
   ],
   "source": [
    "train_X=train_X.T\n",
    "test_X=test_X.T\n",
    "train_Y=train_Y.T\n",
    "test_Y=test_Y.T\n",
    "print(\"Shape of X(train_set):\",train_X.shape)\n",
    "print(\"Shape of X(test_set):\",test_X.shape)\n",
    "print(\"Shape of Y(train_set):\",train_Y.shape)\n",
    "print(\"Shape of Y(test_set):\",test_Y.shape)"
   ]
  },
  {
   "cell_type": "markdown",
   "metadata": {},
   "source": [
    "### Neural Network model with single hidden layer. \n",
    "#### General Methodology:\n",
    "1. Define the neural network structure(#input_units, #hidden_units, #output_units)\n",
    "2. Initialize the model's parameters\n",
    "3. Loop:\n",
    "    1. Implement forward propagation\n",
    "    2. Compute loss\n",
    "    3. Implement backward propagation to get the gradients\n",
    "    4. Update parameters (gradient descent)\n",
    "4. Merge 1,2,3 steps into one function"
   ]
  },
  {
   "cell_type": "markdown",
   "metadata": {},
   "source": [
    "#### 1. Define the neural network structure(input)\n",
    "- Arguments:\n",
    "    - X -- input dataset of shape (input size, number of examples)\n",
    "    - Y -- labels of shape (output size, number of examples)  \n",
    "- Returns:\n",
    "    - n_x -- the size of the input layer\n",
    "    - n_h -- the size of the hidden layer (=4)\n",
    "    - n_y -- the size of the output layer"
   ]
  },
  {
   "cell_type": "code",
   "execution_count": 8,
   "metadata": {},
   "outputs": [],
   "source": [
    "def layer_sizes(X, Y):\n",
    "    \n",
    "    n_x = X.shape[0] #size of input layer\n",
    "    n_h = 4\n",
    "    n_y = Y.shape[0] #size of output layer\n",
    "    \n",
    "    return (n_x, n_h, n_y)"
   ]
  },
  {
   "cell_type": "markdown",
   "metadata": {},
   "source": [
    "#### 2. Initialize the model's parameters\n",
    "- Argument:\n",
    "    - n_x -- size of the input layer\n",
    "    - n_h -- size of the hidden layer\n",
    "    - n_y -- size of the output layer\n",
    "- Returns: params -- python dictionary containing your parameters:\n",
    "    - W1 -- weight matrix of shape (n_h, n_x)\n",
    "    - b1 -- bias vector of shape (n_h, 1)\n",
    "    - W2 -- weight matrix of shape (n_y, n_h)\n",
    "    - b2 -- bias vector of shape (n_y, 1)\n",
    "- Initializing weights matrices with random values\n",
    "- Initializing vias vectors with zeros"
   ]
  },
  {
   "cell_type": "code",
   "execution_count": 9,
   "metadata": {},
   "outputs": [],
   "source": [
    "def initialize_parameters(n_x, n_h, n_y):\n",
    "    \n",
    "    W1 = np.random.randn(n_h, n_x)*0.01\n",
    "    b1 = np.zeros((n_h, 1))\n",
    "    W2 = np.random.randn(n_y, n_h)*0.01\n",
    "    b2 = np.zeros((n_y,1))\n",
    "    \n",
    "    assert (W1.shape == (n_h, n_x))\n",
    "    assert (b1.shape == (n_h, 1))\n",
    "    assert (W2.shape == (n_y, n_h))\n",
    "    assert (b2.shape == (n_y, 1))\n",
    "    \n",
    "    parameters = {\"W1\": W1,\n",
    "                  \"b1\": b1,\n",
    "                  \"W2\": W2,\n",
    "                  \"b2\": b2}\n",
    "    \n",
    "    return parameters"
   ]
  },
  {
   "cell_type": "markdown",
   "metadata": {},
   "source": [
    "### 3. Loop:\n",
    "#### 3.A. Implement forward propagation\n",
    "- Argument:\n",
    "    - X -- input data of size (n_x, m)\n",
    "    - parameters -- python dictionary containing your parameters (output of initialization function)\n",
    "- Returns:\n",
    "    - A2 -- The sigmoid output of the second activation\n",
    "    - cache -- a dictionary containing \"Z1\", \"A1\", \"Z2\" and \"A2\""
   ]
  },
  {
   "cell_type": "code",
   "execution_count": 10,
   "metadata": {},
   "outputs": [],
   "source": [
    "def forward_propagation(X, parameters):\n",
    "\n",
    "    # Retrieve each parameter from the dictionary \"parameters\"\n",
    "    W1 = parameters[\"W1\"]\n",
    "    b1 = parameters[\"b1\"]\n",
    "    W2 = parameters[\"W2\"]\n",
    "    b2 = parameters[\"b2\"]\n",
    "    \n",
    "    # Implement Forward Propagation to calculate A2 (probabilities)\n",
    "    Z1 = np.dot(W1,X)+b1\n",
    "    A1 = np.tanh(Z1)\n",
    "    Z2 = np.dot(W2,A1)+b2\n",
    "    A2 = sigmoid(Z2)\n",
    "    \n",
    "    assert(A2.shape == (1, X.shape[1]))\n",
    "    \n",
    "    cache = {\"Z1\": Z1,\n",
    "             \"A1\": A1,\n",
    "             \"Z2\": Z2,\n",
    "             \"A2\": A2}\n",
    "    \n",
    "    return A2, cache\n",
    "\n",
    "#Sigmoid function\n",
    "def sigmoid(x):\n",
    "    \"\"\"\n",
    "    Compute the sigmoid of x\n",
    "\n",
    "    Arguments:\n",
    "    x -- A scalar or numpy array of any size.\n",
    "\n",
    "    Return:\n",
    "    s -- sigmoid(x)\n",
    "    \"\"\"\n",
    "    s = 1/(1+np.exp(-x))\n",
    "    return s"
   ]
  },
  {
   "cell_type": "markdown",
   "metadata": {},
   "source": [
    "#### 3.B. Compute cost\n",
    "\n",
    "- Computes the cross-entropy cost\n",
    "- Arguments:\n",
    "    - A2 -- The sigmoid output of the second activation, of shape (1, number of examples)\n",
    "    - Y -- \"true\" labels vector of shape (1, number of examples)\n",
    "    - parameters -- python dictionary containing your parameters W1, b1, W2 and b2\n",
    "- Returns:\n",
    "    - cost -- cross-entropy cost given equation (13)"
   ]
  },
  {
   "cell_type": "code",
   "execution_count": 11,
   "metadata": {},
   "outputs": [],
   "source": [
    "def compute_cost(A2, Y, parameters):\n",
    "    \n",
    "    m = Y.shape[1] # number of example\n",
    "\n",
    "    # Compute the cross-entropy cost\n",
    "    logprobs = np.multiply(np.log(A2),Y)+np.multiply(np.log(1-A2),1-Y)\n",
    "    cost = - np.sum(logprobs)\n",
    "    \n",
    "    cost = float(np.squeeze(cost))  # makes sure cost is the dimension we expect. \n",
    "                                    # E.g., turns [[17]] into 17 \n",
    "    assert(isinstance(cost, float))\n",
    "    \n",
    "    return cost"
   ]
  },
  {
   "cell_type": "markdown",
   "metadata": {},
   "source": [
    "#### 3.C. Implement backward propagation to get the gradients\n",
    "- Arguments:\n",
    "    - parameters -- python dictionary containing our parameters \n",
    "    - cache -- a dictionary containing \"Z1\", \"A1\", \"Z2\" and \"A2\".\n",
    "    - X -- input data of shape (2, number of examples)\n",
    "    - Y -- \"true\" labels vector of shape (1, number of examples)\n",
    "- Returns:\n",
    "    - grads -- python dictionary containing your gradients with respect to different parameters"
   ]
  },
  {
   "cell_type": "code",
   "execution_count": 12,
   "metadata": {},
   "outputs": [],
   "source": [
    "def backward_propagation(parameters, cache, X, Y):\n",
    "\n",
    "    m = X.shape[1]\n",
    "    \n",
    "    # First, retrieve W1 and W2 from the dictionary \"parameters\".\n",
    "    W1 = parameters[\"W1\"]\n",
    "    W2 = parameters[\"W2\"]\n",
    "        \n",
    "    # Retrieve also A1 and A2 from dictionary \"cache\".\n",
    "    A1 = cache[\"A1\"]\n",
    "    A2 = cache[\"A2\"]\n",
    "    \n",
    "    # Backward propagation: calculate dW1, db1, dW2, db2. \n",
    "    dZ2 = A2-Y\n",
    "    dW2 = (1/m)*np.dot(dZ2,A1.T)\n",
    "    db2 = (1/m)*np.sum(dZ2, axis=1, keepdims=True)\n",
    "    dZ1 = np.dot(W2.T,dZ2)*(1-np.power(A1,2))\n",
    "    dW1 = (1/m)*np.dot(dZ1,X.T)\n",
    "    db1 = (1/m)*np.sum(dZ1, axis=1, keepdims=True)\n",
    "    \n",
    "    grads = {\"dW1\": dW1,\n",
    "             \"db1\": db1,\n",
    "             \"dW2\": dW2,\n",
    "             \"db2\": db2}\n",
    "    \n",
    "    return grads"
   ]
  },
  {
   "cell_type": "markdown",
   "metadata": {},
   "source": [
    "#### Update Parameters(Gradient Descent)\n",
    "- Arguments:\n",
    "    - parameters -- python dictionary containing your parameters \n",
    "    - grads -- python dictionary containing your gradients \n",
    "- Returns:\n",
    "    - parameters -- python dictionary containing your updated parameters "
   ]
  },
  {
   "cell_type": "code",
   "execution_count": 13,
   "metadata": {},
   "outputs": [],
   "source": [
    "def update_parameters(parameters, grads, learning_rate = 1.2):\n",
    "    \n",
    "    # Retrieve each parameter from the dictionary \"parameters\"\n",
    "    W1 = parameters[\"W1\"]\n",
    "    b1 = parameters[\"b1\"]\n",
    "    W2 = parameters[\"W2\"]\n",
    "    b2 = parameters[\"b2\"]\n",
    "    \n",
    "    # Retrieve each gradient from the dictionary \"grads\"\n",
    "    dW1 = grads[\"dW1\"]\n",
    "    db1 = grads[\"db1\"]\n",
    "    dW2 = grads[\"dW2\"]\n",
    "    db2 = grads[\"db2\"]\n",
    "    \n",
    "    # Update rule for each parameter\n",
    "    W1 = W1-(learning_rate*dW1)\n",
    "    b1 = b1-(learning_rate*db1)\n",
    "    W2 = W2-(learning_rate*dW2)\n",
    "    b2 = b2-(learning_rate*db2)\n",
    "    \n",
    "    parameters = {\"W1\": W1,\n",
    "                  \"b1\": b1,\n",
    "                  \"W2\": W2,\n",
    "                  \"b2\": b2}\n",
    "    \n",
    "    return parameters"
   ]
  },
  {
   "cell_type": "markdown",
   "metadata": {},
   "source": [
    "### 4. Merge steps 1,2,3 into one functions \n",
    "- Arguments:\n",
    "    - X -- dataset of shape (13, number of examples)\n",
    "    - Y -- labels of shape (1, number of examples)\n",
    "    - n_h -- size of the hidden layer\n",
    "    - num_iterations -- Number of iterations in gradient descent loop\n",
    "    - print_cost -- if True, print the cost every 1000 iterations\n",
    "- Returns:\n",
    "    - parameters -- parameters learnt by the model. They can then be used to predict.\n"
   ]
  },
  {
   "cell_type": "code",
   "execution_count": 14,
   "metadata": {},
   "outputs": [],
   "source": [
    "def nn_model(X, Y, n_h, num_iterations = 10000, print_cost=False):\n",
    "    \n",
    "    np.random.seed(3)\n",
    "    n_x = layer_sizes(X, Y)[0] #1\n",
    "    n_y = layer_sizes(X, Y)[2] #1\n",
    "    \n",
    "    # Initialize parameters #2\n",
    "    parameters = initialize_parameters(n_x, n_h, n_y)\n",
    "    \n",
    "    # Loop (gradient descent) #3\n",
    "    for i in range(0, num_iterations):\n",
    "         \n",
    "        # Forward propagation. Inputs: \"X, parameters\". Outputs: \"A2, cache\". #3.A\n",
    "        A2, cache = forward_propagation(X, parameters)\n",
    "        \n",
    "        # Cost function. Inputs: \"A2, Y, parameters\". Outputs: \"cost\". #3.B\n",
    "        cost = compute_cost(A2, Y, parameters)\n",
    " \n",
    "        # Backpropagation. Inputs: \"parameters, cache, X, Y\". Outputs: \"grads\". #3.C\n",
    "        grads = backward_propagation(parameters, cache, X, Y)\n",
    " \n",
    "        # Gradient descent parameter update. Inputs: \"parameters, grads\". Outputs: \"parameters\". #3.D\n",
    "        parameters = update_parameters(parameters, grads)\n",
    "        \n",
    "        # Print the cost every 1000 iterations\n",
    "        if print_cost and i % 1000 == 0:\n",
    "            print (\"Cost after iteration %i: %f\" %(i, cost))\n",
    "\n",
    "    return parameters"
   ]
  },
  {
   "cell_type": "markdown",
   "metadata": {},
   "source": [
    "#### Predicting the target \n",
    "- Using the learned parameters, predicts a class for each example in X\n",
    "- Arguments:\n",
    "    - parameters -- python dictionary containing your parameters \n",
    "    - X -- input data of size (n_x, m)\n",
    "- Returns\n",
    "    - predictions -- vector of predictions of our model (red: 0 / blue: 1)"
   ]
  },
  {
   "cell_type": "code",
   "execution_count": 15,
   "metadata": {},
   "outputs": [],
   "source": [
    "def predict(parameters, X):\n",
    "    \n",
    "    # Computes probabilities using forward propagation, and \n",
    "    # classifies to 0/1 using 0.5 as the threshold.\n",
    "    A2, cache = forward_propagation(X, parameters)\n",
    "    predictions = np.round(A2)\n",
    "    \n",
    "    return predictions"
   ]
  },
  {
   "cell_type": "markdown",
   "metadata": {},
   "source": [
    "#### Training the model with X and Y train data sets using nn_model function."
   ]
  },
  {
   "cell_type": "code",
   "execution_count": 16,
   "metadata": {},
   "outputs": [
    {
     "name": "stdout",
     "output_type": "stream",
     "text": [
      "Cost after iteration 0: 167.835480\n",
      "Cost after iteration 1000: 166.914228\n",
      "Cost after iteration 2000: 166.914228\n",
      "Cost after iteration 3000: 166.914228\n",
      "Cost after iteration 4000: 166.914228\n",
      "Cost after iteration 5000: 166.914228\n",
      "Cost after iteration 6000: 166.914228\n",
      "Cost after iteration 7000: 166.914228\n",
      "Cost after iteration 8000: 166.914228\n",
      "Cost after iteration 9000: 166.914228\n"
     ]
    }
   ],
   "source": [
    "# Build a model with a n_h-dimensional hidden layer\n",
    "parameters = nn_model(train_X, train_Y, n_h = 4, num_iterations = 10000, print_cost=True)"
   ]
  },
  {
   "cell_type": "markdown",
   "metadata": {},
   "source": [
    "#### Using the above obtained parameters to predict the test set and accuracy is calculated based on train and test set of Y"
   ]
  },
  {
   "cell_type": "code",
   "execution_count": 17,
   "metadata": {},
   "outputs": [
    {
     "name": "stdout",
     "output_type": "stream",
     "text": [
      "Accuracy:55.737705%\n"
     ]
    }
   ],
   "source": [
    "predictions = predict(parameters, test_X)\n",
    "print ('Accuracy:%f' %float((np.dot(test_Y,predictions.T) + np.dot(1-test_Y,1-predictions.T))/float(test_Y.size)*100) + '%')"
   ]
  },
  {
   "cell_type": "markdown",
   "metadata": {},
   "source": [
    "#### Tuning the hidden layer units"
   ]
  },
  {
   "cell_type": "code",
   "execution_count": 18,
   "metadata": {},
   "outputs": [
    {
     "name": "stdout",
     "output_type": "stream",
     "text": [
      "Accuracy for 1 hidden units: 55.73770491803278 %\n",
      "Accuracy for 2 hidden units: 55.73770491803278 %\n",
      "Accuracy for 3 hidden units: 55.73770491803278 %\n",
      "Accuracy for 4 hidden units: 55.73770491803278 %\n",
      "Accuracy for 5 hidden units: 55.73770491803278 %\n",
      "Accuracy for 6 hidden units: 44.26229508196721 %\n",
      "Accuracy for 7 hidden units: 44.26229508196721 %\n",
      "Accuracy for 8 hidden units: 44.26229508196721 %\n",
      "Accuracy for 9 hidden units: 44.26229508196721 %\n",
      "Accuracy for 10 hidden units: 44.26229508196721 %\n",
      "Accuracy for 20 hidden units: 44.26229508196721 %\n",
      "Accuracy for 30 hidden units: 44.26229508196721 %\n",
      "Accuracy for 40 hidden units: 44.26229508196721 %\n",
      "Accuracy for 50 hidden units: 55.73770491803278 %\n"
     ]
    },
    {
     "data": {
      "image/png": "[encoded data removed]",
      "text/plain": [
       "<Figure size 432x288 with 1 Axes>"
      ]
     },
     "metadata": {
      "needs_background": "light"
     },
     "output_type": "display_data"
    }
   ],
   "source": [
    "hidden_layer_units = [1, 2, 3, 4, 5, 6, 7, 8, 9, 10, 20, 30, 40, 50]\n",
    "for i, n_h in enumerate(hidden_layer_units):\n",
    "    parameters = nn_model(train_X, train_Y, n_h, num_iterations = 5000)\n",
    "    predictions = predict(parameters, test_X)\n",
    "    accuracy = float((np.dot(test_Y,predictions.T) + np.dot(1-test_Y,1-predictions.T))/float(test_Y.size)*100)\n",
    "    print (\"Accuracy for {} hidden units: {} %\".format(n_h, accuracy))\n",
    "    plt.plot([n_h],[accuracy],'rx')\n",
    "    plt.xlabel('Number of hidden units')\n",
    "    plt.ylabel('Accuracy')\n",
    "    plt.title('Accuracy changes with respect to hidden units')"
   ]
  },
  {
   "cell_type": "markdown",
   "metadata": {},
   "source": [
    "#### From the above chart we can infer that only high variation in the number of hidden units results in change in accuracy. Very high number of hidden units also results in overfitting."
   ]
  }
 ],
 "metadata": {
  "kernelspec": {
   "display_name": "Python 3",
   "language": "python",
   "name": "python3"
  },
  "language_info": {
   "codemirror_mode": {
    "name": "ipython",
    "version": 3
   },
   "file_extension": ".py",
   "mimetype": "text/x-python",
   "name": "python",
   "nbconvert_exporter": "python",
   "pygments_lexer": "ipython3",
   "version": "3.7.6"
  }
 },
 "nbformat": 4,
 "nbformat_minor": 2
}
